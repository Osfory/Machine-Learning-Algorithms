{
 "cells": [
  {
   "cell_type": "markdown",
   "id": "63e43a3f-434c-4930-8ce3-ab760492e703",
   "metadata": {},
   "source": [
    "# Machine Learning Algorithms - Metric Algorithms"
   ]
  },
  {
   "cell_type": "markdown",
   "id": "7d9cbeec-597c-467a-ae88-b8b5374e11a6",
   "metadata": {},
   "source": [
    "## Imports and Config"
   ]
  },
  {
   "cell_type": "code",
   "execution_count": 1,
   "id": "7c12a731-77b6-4828-94b2-10dd505063e8",
   "metadata": {},
   "outputs": [
    {
     "name": "stdout",
     "output_type": "stream",
     "text": [
      "Imports Done!\n"
     ]
    }
   ],
   "source": [
    "import numpy as np\n",
    "import pandas as pd\n",
    "import random\n",
    "from sklearn.neighbors import KNeighborsClassifier\n",
    "from sklearn.neighbors import KNeighborsRegressor\n",
    "\n",
    "print(\"Imports Done!\")"
   ]
  },
  {
   "cell_type": "markdown",
   "id": "1511639a-92a5-4ffa-9750-4687281d7d4e",
   "metadata": {},
   "source": [
    "## Classification - k Nearest Neighbors"
   ]
  },
  {
   "cell_type": "code",
   "execution_count": 32,
   "id": "e59231a0-7d3c-4150-acc7-ee330438bdde",
   "metadata": {},
   "outputs": [],
   "source": [
    "from sklearn.datasets import make_classification\n",
    "\n",
    "X_train, y_train = make_classification(n_samples=7, n_features=14, n_informative=10, random_state=42)\n",
    "X_train = pd.DataFrame(X_train)\n",
    "y_train = pd.Series(y_train)\n",
    "X_train.columns = [f'col_{col}' for col in X_train.columns]\n",
    "\n",
    "X_test, y_test = make_classification(n_samples=4, n_features=14, n_informative=10, random_state=13)\n",
    "X_test = pd.DataFrame(X_test)\n",
    "y_test = pd.Series(y_test)\n",
    "X_test.columns = [f'col_{col}' for col in X_test.columns]"
   ]
  },
  {
   "cell_type": "code",
   "execution_count": 81,
   "id": "db6542b0-ebc6-450d-9215-9426512b2736",
   "metadata": {},
   "outputs": [],
   "source": [
    "class MyKNNClf:\n",
    "\n",
    "    def __init__(self, k=3):\n",
    "        self.k = k\n",
    "        self.train_size = None\n",
    "        self.X_train = None\n",
    "        self.y_train = None\n",
    "\n",
    "    def __repr__(self):\n",
    "        return f'MyKNNClf class: k={self.k}'\n",
    "\n",
    "    def predict(self, X):\n",
    "        # predicted_labels = np.zeros(X.shape[0],)\n",
    "        predicted_labels = np.array([0])\n",
    "        for index, row in X.iterrows():\n",
    "            euclidian_distance = pd.DataFrame(data=np.array([np.sqrt(np.sum((self.X_train - row)**2, axis=1)), self.y_train]).T, columns=[\"distance\", \"label\"])\n",
    "            euclidian_distance.sort_values(by=\"distance\", ascending=False, inplace=True)\n",
    "            # predicted_labels[index] = (euclidian_distance.label.tail(self.k)).mode()[0]\n",
    "            predicted_labels = np.append(predicted_labels, (euclidian_distance.label.tail(self.k)).mode()[0])\n",
    "        return predicted_labels[1:].astype(int)\n",
    "\n",
    "    def predict_proba(self, X):\n",
    "        # predicted_labels = np.zeros(X.shape[0],)\n",
    "        predicted_labels = np.array([0])\n",
    "        for index, row in X.iterrows():\n",
    "            euclidian_distance = pd.DataFrame(data=np.array([np.sqrt(np.sum((self.X_train - row)**2, axis=1)), self.y_train]).T, columns=[\"distance\", \"label\"])\n",
    "            euclidian_distance.sort_values(by=\"distance\", ascending=False, inplace=True)\n",
    "            # predicted_labels[index] = (euclidian_distance.label.tail(self.k)).sum() / self.k\n",
    "            predicted_labels = np.append(predicted_labels, (euclidian_distance.label.tail(self.k)).sum() / self.k)     \n",
    "        return predicted_labels[1:]\n",
    "       \n",
    "    def fit(self, X, y):\n",
    "        self.X_train = X\n",
    "        self.y_train = y\n",
    "        self.train_size = X.shape"
   ]
  },
  {
   "cell_type": "code",
   "execution_count": 82,
   "id": "8f504d18-8311-405a-be40-092c309ca966",
   "metadata": {},
   "outputs": [
    {
     "data": {
      "text/plain": [
       "array([1, 0, 0, 0])"
      ]
     },
     "execution_count": 82,
     "metadata": {},
     "output_type": "execute_result"
    }
   ],
   "source": [
    "my_knn_model = MyKNNClf()\n",
    "my_knn_model.fit(X_train, y_train)\n",
    "my_knn_model.predict(X_test)"
   ]
  },
  {
   "cell_type": "code",
   "execution_count": 80,
   "id": "8dbe9b79-331d-43aa-a5e0-54536ab8b69c",
   "metadata": {},
   "outputs": [
    {
     "data": {
      "text/plain": [
       "array([0.66666667, 0.33333333, 0.33333333, 0.        ])"
      ]
     },
     "execution_count": 80,
     "metadata": {},
     "output_type": "execute_result"
    }
   ],
   "source": [
    "my_knn_model.predict_proba(X_test)"
   ]
  },
  {
   "cell_type": "code",
   "execution_count": null,
   "id": "e392f60c-7cb0-41ad-95b5-cef78053bed1",
   "metadata": {},
   "outputs": [],
   "source": []
  },
  {
   "cell_type": "code",
   "execution_count": null,
   "id": "ad3ef2c1-58e0-42d5-8979-786eaafab81f",
   "metadata": {},
   "outputs": [],
   "source": []
  }
 ],
 "metadata": {
  "kernelspec": {
   "display_name": "Python 3 (ipykernel)",
   "language": "python",
   "name": "python3"
  },
  "language_info": {
   "codemirror_mode": {
    "name": "ipython",
    "version": 3
   },
   "file_extension": ".py",
   "mimetype": "text/x-python",
   "name": "python",
   "nbconvert_exporter": "python",
   "pygments_lexer": "ipython3",
   "version": "3.12.3"
  }
 },
 "nbformat": 4,
 "nbformat_minor": 5
}
